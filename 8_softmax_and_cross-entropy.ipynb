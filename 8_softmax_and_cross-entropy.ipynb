{
 "cells": [
  {
   "cell_type": "code",
   "execution_count": 1,
   "id": "de8e98e9",
   "metadata": {},
   "outputs": [],
   "source": [
    "import torch\n",
    "import torch.nn as nn\n",
    "import numpy as np"
   ]
  },
  {
   "cell_type": "code",
   "execution_count": 2,
   "id": "6a412fe4",
   "metadata": {},
   "outputs": [],
   "source": [
    "# softmax function\n",
    "def softmax(x):\n",
    "    return np.exp(x) / np.sum(np.exp(x), axis=0)"
   ]
  },
  {
   "cell_type": "code",
   "execution_count": 3,
   "id": "c3bc2266",
   "metadata": {},
   "outputs": [
    {
     "data": {
      "text/plain": [
       "array([0.65900114, 0.24243297, 0.09856589])"
      ]
     },
     "execution_count": 3,
     "metadata": {},
     "output_type": "execute_result"
    }
   ],
   "source": [
    "x = np.array([2.0, 1.0, 0.1])\n",
    "outputs = softmax(x)\n",
    "outputs"
   ]
  },
  {
   "cell_type": "code",
   "execution_count": 4,
   "id": "20a1db94",
   "metadata": {},
   "outputs": [
    {
     "data": {
      "text/plain": [
       "tensor([0.6590, 0.2424, 0.0986], dtype=torch.float64)"
      ]
     },
     "execution_count": 4,
     "metadata": {},
     "output_type": "execute_result"
    }
   ],
   "source": [
    "# same with pytorch\n",
    "x = torch.tensor(x)\n",
    "outputs = torch.softmax(x, dim=0)\n",
    "outputs"
   ]
  },
  {
   "cell_type": "code",
   "execution_count": 5,
   "id": "4cb8bd54",
   "metadata": {},
   "outputs": [],
   "source": [
    "# cross-entropy loss\n",
    "def cross_entropy(actual, predicted):\n",
    "    loss = -np.sum(actual * np.log(predicted))\n",
    "    return loss # / float(predicted.shape[0])"
   ]
  },
  {
   "cell_type": "code",
   "execution_count": 6,
   "id": "3e61d818",
   "metadata": {},
   "outputs": [],
   "source": [
    "# y must be one-hot encoded:\n",
    "# -- correct class 0 = [1, 0, 0]\n",
    "# -- correct class 1 = [0, 1, 0]\n",
    "# -- correct class 2 = [0, 0, 1]\n",
    "Y = np.array([1, 0, 0])"
   ]
  },
  {
   "cell_type": "code",
   "execution_count": 7,
   "id": "a41b7f8b",
   "metadata": {},
   "outputs": [
    {
     "name": "stdout",
     "output_type": "stream",
     "text": [
      "Loss 1 numpy: 0.4170\n",
      "Loss 2 numpy: 2.3026\n"
     ]
    }
   ],
   "source": [
    "# y_pred contains probabilities\n",
    "y_pred_good = np.array([0.65900114, 0.24243297, 0.09856589])\n",
    "y_pred_bad = np.array([0.1, 0.3, 0.6])\n",
    "\n",
    "l1 = cross_entropy(Y, y_pred_good)\n",
    "l2 = cross_entropy(Y, y_pred_bad)\n",
    "\n",
    "print(f'Loss 1 numpy: {l1:.4f}')\n",
    "print(f'Loss 2 numpy: {l2:.4f}')"
   ]
  },
  {
   "cell_type": "code",
   "execution_count": 8,
   "id": "c9ccdf8e",
   "metadata": {},
   "outputs": [],
   "source": [
    "# Some notes on pytorch implementation:\n",
    "# -- 1. nn.CrossEntropyLoss already aplies Softmax function before Negative Log-likelihood\n",
    "#       (so, we don't need softmax layer at the end of our loss function)\n",
    "# -- 2. Y is NOT one-hot encoded, it only contains the correct class label (either 0 or 1 or 2)\n",
    "# -- 3. Y_pred contains raw scores (logits), not the probabilities. "
   ]
  },
  {
   "cell_type": "code",
   "execution_count": 9,
   "id": "b6214a59",
   "metadata": {},
   "outputs": [],
   "source": [
    "loss = nn.CrossEntropyLoss()"
   ]
  },
  {
   "cell_type": "code",
   "execution_count": 10,
   "id": "7d4e8447",
   "metadata": {},
   "outputs": [],
   "source": [
    "Y = torch.tensor([0])"
   ]
  },
  {
   "cell_type": "code",
   "execution_count": 11,
   "id": "eb35f0da",
   "metadata": {},
   "outputs": [],
   "source": [
    "# dims = n_samples x n_classes\n",
    "Y_pred_good = torch.tensor([[2.0, 1.0, 0.1]])\n",
    "Y_pred_bad = torch.tensor([[0.5, 2.0, 0.3]])"
   ]
  },
  {
   "cell_type": "code",
   "execution_count": 12,
   "id": "6f7c4855",
   "metadata": {},
   "outputs": [
    {
     "name": "stdout",
     "output_type": "stream",
     "text": [
      "Loss 1 pytorch: 0.4170\n",
      "Loss 2 pytorch: 1.8406\n"
     ]
    }
   ],
   "source": [
    "l1 = loss(Y_pred_good, Y)\n",
    "l2 = loss(Y_pred_bad, Y)\n",
    "\n",
    "print(f'Loss 1 pytorch: {l1.item():.4f}')\n",
    "print(f'Loss 2 pytorch: {l2.item():.4f}')"
   ]
  },
  {
   "cell_type": "code",
   "execution_count": 13,
   "id": "e8ead8be",
   "metadata": {},
   "outputs": [
    {
     "name": "stdout",
     "output_type": "stream",
     "text": [
      "tensor([0])\n",
      "tensor([1])\n"
     ]
    }
   ],
   "source": [
    "_, prediction1 = torch.max(Y_pred_good, 1)\n",
    "_, prediction2 = torch.max(Y_pred_bad, 1)\n",
    "\n",
    "print(prediction1)\n",
    "print(prediction2)"
   ]
  },
  {
   "cell_type": "code",
   "execution_count": 14,
   "id": "2a4747b3",
   "metadata": {},
   "outputs": [],
   "source": [
    "# 3 samples\n",
    "Y = torch.tensor([2, 0, 1])"
   ]
  },
  {
   "cell_type": "code",
   "execution_count": 15,
   "id": "abb529e5",
   "metadata": {},
   "outputs": [],
   "source": [
    "# dims = n_samples * n_classes\n",
    "Y_pred_good = torch.tensor([[0.1, 1.0, 2.0], [2.0, 1.0, 0.1], [1.0, 2.0, 0.1]])\n",
    "Y_pred_bad = torch.tensor([[2.0, 0.3, 0.5], [0.3, 2.0, 0.5], [0.5, 0.3, 2.0]])"
   ]
  },
  {
   "cell_type": "code",
   "execution_count": 16,
   "id": "08e1d55b",
   "metadata": {},
   "outputs": [
    {
     "name": "stdout",
     "output_type": "stream",
     "text": [
      "Loss 1 pytorch: 0.4170\n",
      "Loss 2 pytorch: 1.9739\n"
     ]
    }
   ],
   "source": [
    "l1 = loss(Y_pred_good, Y)\n",
    "l2 = loss(Y_pred_bad, Y)\n",
    "\n",
    "print(f'Loss 1 pytorch: {l1.item():.4f}')\n",
    "print(f'Loss 2 pytorch: {l2.item():.4f}')"
   ]
  },
  {
   "cell_type": "code",
   "execution_count": 17,
   "id": "808d4313",
   "metadata": {},
   "outputs": [
    {
     "name": "stdout",
     "output_type": "stream",
     "text": [
      "tensor([2, 0, 1])\n",
      "tensor([0, 1, 2])\n"
     ]
    }
   ],
   "source": [
    "_, prediction1 = torch.max(Y_pred_good, 1)\n",
    "_, prediction2 = torch.max(Y_pred_bad, 1)\n",
    "\n",
    "print(prediction1)\n",
    "print(prediction2)"
   ]
  }
 ],
 "metadata": {
  "kernelspec": {
   "display_name": "Python 3 (ipykernel)",
   "language": "python",
   "name": "python3"
  },
  "language_info": {
   "codemirror_mode": {
    "name": "ipython",
    "version": 3
   },
   "file_extension": ".py",
   "mimetype": "text/x-python",
   "name": "python",
   "nbconvert_exporter": "python",
   "pygments_lexer": "ipython3",
   "version": "3.9.7"
  }
 },
 "nbformat": 4,
 "nbformat_minor": 5
}
