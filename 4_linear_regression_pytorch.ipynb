{
 "cells": [
  {
   "cell_type": "code",
   "execution_count": 116,
   "id": "91fc771e",
   "metadata": {},
   "outputs": [],
   "source": [
    "### General training pipeline\n",
    "\n",
    "# 1) Design model (input / output size, forward pass (layers))\n",
    "# 2) Construct loss and optimizer\n",
    "# 3) Training loop\n",
    "#  - forward pass: compute prediction\n",
    "#  - backward pass: compute gradients\n",
    "#  - update weights"
   ]
  },
  {
   "cell_type": "code",
   "execution_count": 117,
   "id": "d1bc1da8",
   "metadata": {},
   "outputs": [],
   "source": [
    "# imports\n",
    "import torch\n",
    "import torch.nn as nn"
   ]
  },
  {
   "cell_type": "code",
   "execution_count": 118,
   "id": "4f7f0d82",
   "metadata": {},
   "outputs": [
    {
     "data": {
      "text/plain": [
       "(4, 1)"
      ]
     },
     "execution_count": 118,
     "metadata": {},
     "output_type": "execute_result"
    }
   ],
   "source": [
    "# simple linear function without bias\n",
    "# f = w * x\n",
    "# let's w = 2\n",
    "\n",
    "# data\n",
    "X = torch.tensor([[1], [2], [3], [4]], dtype=torch.float32)\n",
    "Y = torch.tensor([[2], [4], [6], [8]], dtype=torch.float32)\n",
    "\n",
    "X_test = torch.tensor([5], dtype=torch.float32)\n",
    "\n",
    "n_samples, n_features = X.shape\n",
    "n_samples, n_features"
   ]
  },
  {
   "cell_type": "code",
   "execution_count": 119,
   "id": "2fa7a432",
   "metadata": {},
   "outputs": [],
   "source": [
    "# model\n",
    "input_size = n_features\n",
    "output_size = n_features\n",
    "\n",
    "### in our case 1 linear layer is enough,\n",
    "### so we can use it straight as a model\n",
    "# model = nn.Linear(input_size, output_size)\n",
    "\n",
    "# but in case our model is complex, we can build a class:\n",
    "class LinearRegression(nn.Module):\n",
    "    def __init__(self, input_dim, output_dim):\n",
    "        super(LinearRegression, self).__init__()\n",
    "        # define layers\n",
    "        self.lin = nn.Linear(input_dim, output_dim)\n",
    "    \n",
    "    def forward(self, x):\n",
    "        return self.lin(x)\n",
    "\n",
    "model = LinearRegression(input_size, output_size)"
   ]
  },
  {
   "cell_type": "code",
   "execution_count": 120,
   "id": "c195280a",
   "metadata": {},
   "outputs": [],
   "source": [
    "# loss (MSE)\n",
    "loss = nn.MSELoss()\n",
    "\n",
    "# training params\n",
    "learning_rate = 0.1\n",
    "\n",
    "# optimizer (for weights' update)\n",
    "optimizer = torch.optim.SGD(model.parameters(), lr=learning_rate)"
   ]
  },
  {
   "cell_type": "code",
   "execution_count": 121,
   "id": "fdbb7c89",
   "metadata": {},
   "outputs": [
    {
     "name": "stdout",
     "output_type": "stream",
     "text": [
      "Prediction before training: f(5) = -1.664\n"
     ]
    }
   ],
   "source": [
    "print(f'Prediction before training: f(5) = {model(X_test).item():.3f}')"
   ]
  },
  {
   "cell_type": "code",
   "execution_count": 122,
   "id": "8c115759",
   "metadata": {},
   "outputs": [
    {
     "name": "stdout",
     "output_type": "stream",
     "text": [
      "epoch 0: w = 3.564, loss = 45.75347137\n",
      "epoch 10: w = 2.086, loss = 0.02052142\n",
      "epoch 20: w = 2.044, loss = 0.00288765\n",
      "epoch 30: w = 2.032, loss = 0.00156950\n",
      "epoch 40: w = 2.024, loss = 0.00085456\n",
      "epoch 50: w = 2.017, loss = 0.00046529\n",
      "epoch 60: w = 2.013, loss = 0.00025334\n",
      "epoch 70: w = 2.009, loss = 0.00013794\n",
      "epoch 80: w = 2.007, loss = 0.00007511\n",
      "epoch 90: w = 2.005, loss = 0.00004089\n",
      "epoch 100: w = 2.004, loss = 0.00002227\n",
      "epoch 110: w = 2.003, loss = 0.00001212\n",
      "epoch 120: w = 2.002, loss = 0.00000660\n",
      "epoch 130: w = 2.002, loss = 0.00000359\n",
      "epoch 140: w = 2.001, loss = 0.00000196\n",
      "epoch 150: w = 2.001, loss = 0.00000107\n",
      "epoch 160: w = 2.001, loss = 0.00000058\n",
      "epoch 170: w = 2.000, loss = 0.00000032\n",
      "epoch 180: w = 2.000, loss = 0.00000017\n",
      "epoch 190: w = 2.000, loss = 0.00000009\n"
     ]
    }
   ],
   "source": [
    "# Training\n",
    "n_iters = 200\n",
    "\n",
    "for epoch in range(n_iters):\n",
    "    # prediction step = forward pass\n",
    "    y_pred = model(X)\n",
    "    \n",
    "    # loss computation\n",
    "    l = loss(Y, y_pred)\n",
    "    \n",
    "    # gradients = backward pass\n",
    "    l.backward() # dl/dw\n",
    "    \n",
    "    # update weights\n",
    "    optimizer.step()\n",
    "    \n",
    "    # zeroing gradients\n",
    "    optimizer.zero_grad()\n",
    "    \n",
    "    if epoch % 10 == 0:\n",
    "        [w, b] = model.parameters()\n",
    "        print(f'epoch {epoch}: w = {w[0][0]:.3f}, loss = {l:.8f}')"
   ]
  },
  {
   "cell_type": "code",
   "execution_count": 123,
   "id": "f795b8f5",
   "metadata": {},
   "outputs": [
    {
     "name": "stdout",
     "output_type": "stream",
     "text": [
      "Prediction after training: f(5) = 10.000\n"
     ]
    }
   ],
   "source": [
    "print(f'Prediction after training: f(5) = {model(X_test).item():.3f}')"
   ]
  }
 ],
 "metadata": {
  "kernelspec": {
   "display_name": "Python 3 (ipykernel)",
   "language": "python",
   "name": "python3"
  },
  "language_info": {
   "codemirror_mode": {
    "name": "ipython",
    "version": 3
   },
   "file_extension": ".py",
   "mimetype": "text/x-python",
   "name": "python",
   "nbconvert_exporter": "python",
   "pygments_lexer": "ipython3",
   "version": "3.9.7"
  }
 },
 "nbformat": 4,
 "nbformat_minor": 5
}
