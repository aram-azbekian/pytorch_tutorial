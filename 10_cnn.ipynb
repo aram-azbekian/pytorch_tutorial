{
 "cells": [
  {
   "cell_type": "code",
   "execution_count": 1,
   "id": "0e36979e",
   "metadata": {},
   "outputs": [],
   "source": [
    "import torch\n",
    "import torch.nn as nn\n",
    "import torch.nn.functional as F\n",
    "import torchvision\n",
    "import torchvision.transforms as transforms\n",
    "import matplotlib.pyplot as plt\n",
    "import numpy as np"
   ]
  },
  {
   "cell_type": "code",
   "execution_count": 2,
   "id": "91aa8c16",
   "metadata": {},
   "outputs": [],
   "source": [
    "# hyperparameters\n",
    "n_epochs = 10\n",
    "batch_size = 4\n",
    "learning_rate = 0.003"
   ]
  },
  {
   "cell_type": "code",
   "execution_count": 3,
   "id": "3e73b595",
   "metadata": {},
   "outputs": [],
   "source": [
    "# CIFAR-10 contains images with values in range [0, 1]\n",
    "# we need to tormalize those to [-1, 1]\n",
    "transform = transforms.Compose([\n",
    "    transforms.ToTensor(),\n",
    "    transforms.Normalize((0.5, 0.5, 0.5), (0.5, 0.5, 0.5))\n",
    "])"
   ]
  },
  {
   "cell_type": "code",
   "execution_count": 4,
   "id": "373bcea2",
   "metadata": {},
   "outputs": [
    {
     "name": "stdout",
     "output_type": "stream",
     "text": [
      "Files already downloaded and verified\n",
      "Files already downloaded and verified\n"
     ]
    }
   ],
   "source": [
    "# dataset\n",
    "train_dataset = torchvision.datasets.CIFAR10(root='./data', train=True, download=True,\n",
    "                                            transform=transform)\n",
    "test_dataset = torchvision.datasets.CIFAR10(root='./data', train=False, download=True,\n",
    "                                            transform=transform)\n",
    "\n",
    "train_loader = torch.utils.data.DataLoader(dataset=train_dataset, batch_size=batch_size,\n",
    "                                           shuffle=True)\n",
    "test_loader = torch.utils.data.DataLoader(dataset=test_dataset, batch_size=batch_size,\n",
    "                                           shuffle=False)\n",
    "\n",
    "classes = ('plane', 'car', 'bird', 'cat', 'deer', 'dog', 'frog', 'horse', 'ship', 'truck')"
   ]
  },
  {
   "cell_type": "code",
   "execution_count": 5,
   "id": "585a58eb",
   "metadata": {},
   "outputs": [],
   "source": [
    "# conv net implementation\n",
    "class ConvNet(nn.Module):\n",
    "    def __init__(self):\n",
    "        super(ConvNet, self).__init__()\n",
    "        self.conv1 = nn.Conv2d(3, 6, 5)\n",
    "        self.pool = nn.MaxPool2d(2, 2)\n",
    "        self.conv2 = nn.Conv2d(6, 16, 5)\n",
    "        self.fc1 = nn.Linear(16*5*5, 120)\n",
    "        self.fc2 = nn.Linear(120, 84)\n",
    "        self.fc3 = nn.Linear(84, len(classes))\n",
    "    \n",
    "    def forward(self, x):\n",
    "        x = self.pool(F.relu(self.conv1(x)))\n",
    "        x = self.pool(F.relu(self.conv2(x)))\n",
    "        x = x.view(-1, 16*5*5)\n",
    "        x = F.relu(self.fc1(x))\n",
    "        x = F.relu(self.fc2(x))\n",
    "        x = self.fc3(x)\n",
    "        return x\n",
    "    \n",
    "model = ConvNet()"
   ]
  },
  {
   "cell_type": "code",
   "execution_count": 6,
   "id": "d8579d36",
   "metadata": {},
   "outputs": [],
   "source": [
    "# loss and optimizer\n",
    "criterion = nn.CrossEntropyLoss()\n",
    "optimizer = torch.optim.SGD(model.parameters(), lr=learning_rate)"
   ]
  },
  {
   "cell_type": "code",
   "execution_count": 7,
   "id": "7b0de6d1",
   "metadata": {},
   "outputs": [
    {
     "name": "stdout",
     "output_type": "stream",
     "text": [
      "epoch 1/10, step 2000/12500, loss = 2.2843\n",
      "epoch 1/10, step 4000/12500, loss = 2.0769\n",
      "epoch 1/10, step 6000/12500, loss = 1.7509\n",
      "epoch 1/10, step 8000/12500, loss = 1.7163\n",
      "epoch 1/10, step 10000/12500, loss = 1.3268\n",
      "epoch 1/10, step 12000/12500, loss = 1.2660\n",
      "epoch 2/10, step 2000/12500, loss = 1.2117\n",
      "epoch 2/10, step 4000/12500, loss = 1.6983\n",
      "epoch 2/10, step 6000/12500, loss = 1.3690\n",
      "epoch 2/10, step 8000/12500, loss = 1.5482\n",
      "epoch 2/10, step 10000/12500, loss = 1.6349\n",
      "epoch 2/10, step 12000/12500, loss = 0.8905\n",
      "epoch 3/10, step 2000/12500, loss = 1.1690\n",
      "epoch 3/10, step 4000/12500, loss = 2.8741\n",
      "epoch 3/10, step 6000/12500, loss = 1.0510\n",
      "epoch 3/10, step 8000/12500, loss = 1.0607\n",
      "epoch 3/10, step 10000/12500, loss = 0.9592\n",
      "epoch 3/10, step 12000/12500, loss = 1.6432\n",
      "epoch 4/10, step 2000/12500, loss = 0.7308\n",
      "epoch 4/10, step 4000/12500, loss = 1.2802\n",
      "epoch 4/10, step 6000/12500, loss = 0.7746\n",
      "epoch 4/10, step 8000/12500, loss = 1.1178\n",
      "epoch 4/10, step 10000/12500, loss = 1.3667\n",
      "epoch 4/10, step 12000/12500, loss = 1.3466\n",
      "epoch 5/10, step 2000/12500, loss = 0.6959\n",
      "epoch 5/10, step 4000/12500, loss = 0.9515\n",
      "epoch 5/10, step 6000/12500, loss = 1.2971\n",
      "epoch 5/10, step 8000/12500, loss = 1.8196\n",
      "epoch 5/10, step 10000/12500, loss = 0.7917\n",
      "epoch 5/10, step 12000/12500, loss = 0.8745\n",
      "epoch 6/10, step 2000/12500, loss = 0.6419\n",
      "epoch 6/10, step 4000/12500, loss = 1.3511\n",
      "epoch 6/10, step 6000/12500, loss = 0.2941\n",
      "epoch 6/10, step 8000/12500, loss = 1.1612\n",
      "epoch 6/10, step 10000/12500, loss = 1.2622\n",
      "epoch 6/10, step 12000/12500, loss = 1.5033\n",
      "epoch 7/10, step 2000/12500, loss = 1.0761\n",
      "epoch 7/10, step 4000/12500, loss = 0.9123\n",
      "epoch 7/10, step 6000/12500, loss = 0.7551\n",
      "epoch 7/10, step 8000/12500, loss = 1.2508\n",
      "epoch 7/10, step 10000/12500, loss = 0.8363\n",
      "epoch 7/10, step 12000/12500, loss = 0.8042\n",
      "epoch 8/10, step 2000/12500, loss = 0.4598\n",
      "epoch 8/10, step 4000/12500, loss = 0.2947\n",
      "epoch 8/10, step 6000/12500, loss = 1.3658\n",
      "epoch 8/10, step 8000/12500, loss = 0.6299\n",
      "epoch 8/10, step 10000/12500, loss = 2.4605\n",
      "epoch 8/10, step 12000/12500, loss = 0.8368\n",
      "epoch 9/10, step 2000/12500, loss = 1.1914\n",
      "epoch 9/10, step 4000/12500, loss = 0.3991\n",
      "epoch 9/10, step 6000/12500, loss = 1.1422\n",
      "epoch 9/10, step 8000/12500, loss = 0.8544\n",
      "epoch 9/10, step 10000/12500, loss = 0.5147\n",
      "epoch 9/10, step 12000/12500, loss = 0.6387\n",
      "epoch 10/10, step 2000/12500, loss = 0.6531\n",
      "epoch 10/10, step 4000/12500, loss = 0.6012\n",
      "epoch 10/10, step 6000/12500, loss = 0.3809\n",
      "epoch 10/10, step 8000/12500, loss = 0.5660\n",
      "epoch 10/10, step 10000/12500, loss = 1.4889\n",
      "epoch 10/10, step 12000/12500, loss = 0.8559\n",
      "Finished training\n"
     ]
    }
   ],
   "source": [
    "# training loop\n",
    "n_total_steps = len(train_loader)\n",
    "\n",
    "for epoch in range(n_epochs):\n",
    "    for i, (images, labels) in enumerate(train_loader):\n",
    "        # origin shape: [4, 3, 32, 32] = [4, 3, 1024]\n",
    "        # input_layer: 3 input channels, 6 output channels, kernel size 5x5\n",
    "        \n",
    "        # forward pass\n",
    "        outputs = model(images)\n",
    "        loss = criterion(outputs, labels)\n",
    "        \n",
    "        # backward pass\n",
    "        optimizer.zero_grad()\n",
    "        loss.backward()\n",
    "        optimizer.step()\n",
    "        \n",
    "        if (i+1) % 2000 == 0:\n",
    "            print(f'epoch {epoch+1}/{n_epochs}, step {i+1}/{n_total_steps}, loss = {loss.item():.4f}')\n",
    "            \n",
    "print('Finished training')"
   ]
  },
  {
   "cell_type": "code",
   "execution_count": 8,
   "id": "288041d4",
   "metadata": {},
   "outputs": [
    {
     "name": "stdout",
     "output_type": "stream",
     "text": [
      "Accuracy of the Network: 63.47 %\n",
      "Accuracy of class plane: 68.0 %\n",
      "Accuracy of class car: 69.6 %\n",
      "Accuracy of class bird: 47.8 %\n",
      "Accuracy of class cat: 40.5 %\n",
      "Accuracy of class deer: 67.7 %\n",
      "Accuracy of class dog: 55.6 %\n",
      "Accuracy of class frog: 61.3 %\n",
      "Accuracy of class horse: 68.4 %\n",
      "Accuracy of class ship: 79.2 %\n",
      "Accuracy of class truck: 76.6 %\n"
     ]
    }
   ],
   "source": [
    "# test\n",
    "with torch.no_grad():\n",
    "    n_correct = 0\n",
    "    n_samples = 0\n",
    "    n_class_correct = [0 for i in range(len(classes))]\n",
    "    n_class_samples = [0 for i in range(len(classes))]\n",
    "    for images, labels in test_loader:\n",
    "        outputs = model(images)\n",
    "        # max returns (value, index)\n",
    "        _, predictions = torch.max(outputs, dim=1)\n",
    "        n_samples += len(labels)\n",
    "        n_correct += (predictions == labels).sum().item()\n",
    "        \n",
    "        for i in range(batch_size):\n",
    "            label = labels[i]\n",
    "            pred = predictions[i]\n",
    "            if pred == label:\n",
    "                n_class_correct[label] += 1\n",
    "            n_class_samples[label] += 1\n",
    "            \n",
    "    acc = 100 * n_correct / n_samples\n",
    "    print(f'Accuracy of the Network: {acc} %')\n",
    "    \n",
    "    for i in range(len(classes)):\n",
    "        class_acc = 100 * n_class_correct[i] / n_class_samples[i]\n",
    "        print(f'Accuracy of class {classes[i]}: {class_acc} %')"
   ]
  }
 ],
 "metadata": {
  "kernelspec": {
   "display_name": "Python 3 (ipykernel)",
   "language": "python",
   "name": "python3"
  },
  "language_info": {
   "codemirror_mode": {
    "name": "ipython",
    "version": 3
   },
   "file_extension": ".py",
   "mimetype": "text/x-python",
   "name": "python",
   "nbconvert_exporter": "python",
   "pygments_lexer": "ipython3",
   "version": "3.9.7"
  }
 },
 "nbformat": 4,
 "nbformat_minor": 5
}
